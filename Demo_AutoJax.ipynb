{
 "cells": [
  {
   "cell_type": "code",
   "execution_count": 1,
   "metadata": {},
   "outputs": [],
   "source": [
    "import jax.numpy as jnp\n",
    "import autograd.numpy as anp\n",
    "import timeit"
   ]
  },
  {
   "cell_type": "code",
   "execution_count": 2,
   "metadata": {},
   "outputs": [
    {
     "name": "stderr",
     "output_type": "stream",
     "text": [
      "/Users/cholt/Google Drive/Python/torch_SSN/jax/jax/lib/xla_bridge.py:109: UserWarning: No GPU/TPU found, falling back to CPU.\n",
      "  warnings.warn('No GPU/TPU found, falling back to CPU.')\n"
     ]
    }
   ],
   "source": [
    "# Define some weight matrix and rates\n",
    "\n",
    "W11 = 1.3\n",
    "W21 = 0.7\n",
    "W33 = 0.1 * W11\n",
    "W43 = 0.1 * W21\n",
    "W56 = -3*W11\n",
    "W66 = -3*W21\n",
    "\n",
    "\n",
    "Wjax = jnp.array([[W11, 0, 0, 0, 0, 0],[W21, 0, 0, 0, 0, 0], [0, 0, W33, 0, 0, 0], [0, 0, W43, 0, 0, 0], [0, 0, 0, 0, 0, W56], [0, 0, 0, 0, 0, W66]])\n",
    "rjax = jnp.zeros((6,4))\n",
    "Ijax = jnp.ones_like(rjax)\n",
    "\n",
    "Wauto = anp.array([[W11, 0, 0, 0, 0, 0],[W21, 0, 0, 0, 0, 0], [0, 0, W33, 0, 0, 0], [0, 0, W43, 0, 0, 0], [0, 0, 0, 0, 0, W56], [0, 0, 0, 0, 0, W66]])\n",
    "rauto = anp.zeros((6, 4))\n",
    "Iauto = anp.ones_like(rauto)\n",
    "\n",
    "dt = 0.1"
   ]
  },
  {
   "cell_type": "code",
   "execution_count": 6,
   "metadata": {},
   "outputs": [],
   "source": [
    "def drdt(r, W, I):\n",
    "    dr = 0.5 * (abs(W @ r + I) + W @ r + I) #rectified linear units  \n",
    "    return dr\n",
    "\n",
    "def euler_update_jax(r, W, I):\n",
    "    t = 0\n",
    "    \n",
    "    while t < 100:\n",
    "        dr = drdt(r, W, I)\n",
    "        r = r + dr * dt\n",
    "        t += 1\n",
    "    \n",
    "    return r\n",
    "\n",
    "def euler_update_auto(r, W, I):\n",
    "    t = 0\n",
    "    \n",
    "    while t < 100:\n",
    "        dr = drdt(r, W, I)\n",
    "        r = r + dr * dt\n",
    "        t += 1\n",
    "    \n",
    "    return r\n",
    "\n",
    "    "
   ]
  },
  {
   "cell_type": "code",
   "execution_count": 7,
   "metadata": {},
   "outputs": [
    {
     "name": "stdout",
     "output_type": "stream",
     "text": [
      "85.2 ms ± 589 µs per loop (mean ± std. dev. of 7 runs, 10 loops each)\n",
      "761 µs ± 8.8 µs per loop (mean ± std. dev. of 7 runs, 1000 loops each)\n"
     ]
    }
   ],
   "source": [
    "%timeit euler_update_jax(rjax, Wjax, Ijax)\n",
    "%timeit euler_update_auto(rauto, Wauto, Iauto)"
   ]
  },
  {
   "cell_type": "code",
   "execution_count": 9,
   "metadata": {},
   "outputs": [
    {
     "name": "stdout",
     "output_type": "stream",
     "text": [
      "Jax final - Auto final =  [[-3.1250000e-02 -3.1250000e-02 -3.1250000e-02 -3.1250000e-02]\n",
      " [-2.3437500e-02 -2.3437500e-02 -2.3437500e-02 -2.3437500e-02]\n",
      " [ 0.0000000e+00  0.0000000e+00  0.0000000e+00  0.0000000e+00]\n",
      " [ 0.0000000e+00  0.0000000e+00  0.0000000e+00  0.0000000e+00]\n",
      " [-1.4901161e-08 -1.4901161e-08 -1.4901161e-08 -1.4901161e-08]\n",
      " [-2.9802322e-08 -2.9802322e-08 -2.9802322e-08 -2.9802322e-08]]\n"
     ]
    }
   ],
   "source": [
    "rjax_final = euler_update_jax(rjax, Wjax, Ijax)\n",
    "rauto_final = euler_update_auto(rauto, Wauto, Iauto)\n",
    "\n",
    "# Chekc they give more or less the same answer \n",
    "print('Jax final - Auto final = ',rjax_final - rauto_final)"
   ]
  },
  {
   "cell_type": "code",
   "execution_count": null,
   "metadata": {},
   "outputs": [],
   "source": []
  }
 ],
 "metadata": {
  "kernelspec": {
   "display_name": "Python 3",
   "language": "python",
   "name": "python3"
  },
  "language_info": {
   "codemirror_mode": {
    "name": "ipython",
    "version": 3
   },
   "file_extension": ".py",
   "mimetype": "text/x-python",
   "name": "python",
   "nbconvert_exporter": "python",
   "pygments_lexer": "ipython3",
   "version": "3.7.4"
  }
 },
 "nbformat": 4,
 "nbformat_minor": 4
}
